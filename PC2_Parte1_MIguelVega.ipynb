{
 "cells": [
  {
   "cell_type": "code",
   "execution_count": null,
   "id": "a7a081ff-1a99-4858-a465-56c0315a4517",
   "metadata": {},
   "outputs": [],
   "source": [
    "=begin\n",
    "1. Escribe una función que acepte una cadena que contenga todas las letras del alfabeto excepto una y devuelva la letra que falta. \n",
    "   Por ejemplo, la cadena the quick brown box jumps over a lazy dog contiene todas las letras del alfabeto excepto la letra f. \n",
    "   La función debe tener una complejidad temporal de O(n).\n",
    "\n",
    "=end"
   ]
  },
  {
   "cell_type": "code",
   "execution_count": 17,
   "id": "5d0c1de0-b506-4dab-9d27-8046ed2111b4",
   "metadata": {},
   "outputs": [
    {
     "data": {
      "text/plain": [
       "\"La letra que falta es: f\""
      ]
     },
     "execution_count": 17,
     "metadata": {},
     "output_type": "execute_result"
    }
   ],
   "source": [
    "def letra_faltante(cadena)\n",
    "    cadena = cadena.downcase # Primero pasamos la cadena a minusculas\n",
    "    abecedario = ('a'..'z').to_a #Transformamos a un arreglo\n",
    "    cadena.each_char do |letra|\n",
    "    abecedario.delete(letra) if abecedario.include?(letra) #Borraremos las letras que estan en el abecedario que estan contenidas en la cadena\n",
    "    end\n",
    "    abecedario[0]# Con lo cual solo nos quedaria una unica letra dentro del abecedario\n",
    "end\n",
    "\n",
    "cadena = \"the quick brown box jumps over a lazy dog\"\n",
    "letraFaltante = letra_faltante(cadena)\n",
    "\"La letra que falta es: #{letraFaltante}\"\n"
   ]
  },
  {
   "cell_type": "code",
   "execution_count": null,
   "id": "3a86e5e2-2e4a-407b-b517-84b86884c023",
   "metadata": {},
   "outputs": [],
   "source": [
    "=begin\n",
    "Un árbol binario ordenado es aquel en el que cada nodo tiene un valor y hasta 2 hijos, cada uno de los cuales estambién un árbol binario \n",
    "ordenado, y el valor de cualquier elemento del subárbol izquierdo de un nodo es menor que el valor de cualquier elemento en el subárbol \n",
    "derecho del nodo. Defina una clase colección llamada BinaryTree que ofrezca\n",
    "los métodos de instancia << (insertar elemento), empty? (devuelve cierto si el árbol no tiene elementos) y each (el iterador estándar que devuelve un elemento cada vez, en el orden que tú quieras)\n",
    "=end"
   ]
  },
  {
   "cell_type": "code",
   "execution_count": 36,
   "id": "bb3b2561-d4ef-43fd-ab26-962a0b86efa6",
   "metadata": {},
   "outputs": [
    {
     "name": "stdout",
     "output_type": "stream",
     "text": [
      "El arbol esta vacio? false\n",
      "Elementos en el arbol:\n",
      "2\n",
      "4\n",
      "5\n",
      "6\n",
      "7\n"
     ]
    }
   ],
   "source": [
    "class ArbolBinario \n",
    "  attr_accessor :valor, :izq, :der\n",
    "\n",
    "  def initialize(value)\n",
    "    @valor = value # En un inicio este seria nuestro nodo raiz\n",
    "    @izq = nil\n",
    "    @der = nil\n",
    "  end\n",
    "\n",
    "  def insertar_elemento(elemento)\n",
    "    if elemento <= @valor\n",
    "       if @izq.nil?\n",
    "        @izq = ArbolBinario.new(elemento)\n",
    "       else\n",
    "        @izq.insertar_elemento(elemento)\n",
    "       end\n",
    "   else\n",
    "      if @der.nil?\n",
    "       @der = ArbolBinario.new(elemento)\n",
    "      else\n",
    "       @der.insertar_elemento(elemento)\n",
    "   end\n",
    "  end\n",
    "\n",
    "  end\n",
    "\n",
    "  def empty?\n",
    "    @izq.nil? && @der.nil?\n",
    "  end\n",
    "\n",
    "  def in_order(&block)\n",
    "    @izq.in_order(&block) if @izq\n",
    "    block.call(@valor)\n",
    "    @der.in_order(&block) if @der\n",
    "  end\n",
    "end\n",
    "\n",
    "arbol = ArbolBinario.new(6)\n",
    "arbol.insertar_elemento(4)\n",
    "arbol.insertar_elemento(7)\n",
    "arbol.insertar_elemento(5)\n",
    "arbol.insertar_elemento(2)\n",
    "\n",
    "puts \"El arbol esta vacio? #{arbol.empty?}\"\n",
    "\n",
    "puts \"Elementos en el arbol:\"\n",
    "arbol.each { |elemento| puts elemento }\n"
   ]
  },
  {
   "cell_type": "code",
   "execution_count": null,
   "id": "1e4757c6-7304-4217-b0de-8dabe1b74361",
   "metadata": {},
   "outputs": [],
   "source": []
  }
 ],
 "metadata": {
  "kernelspec": {
   "display_name": "Ruby 2.6.6",
   "language": "ruby",
   "name": "ruby"
  },
  "language_info": {
   "file_extension": ".rb",
   "mimetype": "application/x-ruby",
   "name": "ruby",
   "version": "2.6.6"
  }
 },
 "nbformat": 4,
 "nbformat_minor": 5
}
