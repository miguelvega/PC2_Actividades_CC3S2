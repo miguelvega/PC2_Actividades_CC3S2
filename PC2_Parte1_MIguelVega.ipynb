{
 "cells": [
  {
   "cell_type": "code",
   "execution_count": null,
   "id": "a7a081ff-1a99-4858-a465-56c0315a4517",
   "metadata": {},
   "outputs": [],
   "source": [
    "=begin\n",
    "1. Escribe una función que acepte una cadena que contenga todas las letras del alfabeto excepto una y devuelva la letra que falta. \n",
    "   Por ejemplo, la cadena the quick brown box jumps over a lazy dog contiene todas las letras del alfabeto excepto la letra f. \n",
    "   La función debe tener una complejidad temporal de O(n).\n",
    "\n",
    "=end"
   ]
  },
  {
   "cell_type": "code",
   "execution_count": 17,
   "id": "5d0c1de0-b506-4dab-9d27-8046ed2111b4",
   "metadata": {},
   "outputs": [
    {
     "data": {
      "text/plain": [
       "\"La letra que falta es: f\""
      ]
     },
     "execution_count": 17,
     "metadata": {},
     "output_type": "execute_result"
    }
   ],
   "source": [
    "def letra_faltante(cadena)\n",
    "    cadena = cadena.downcase # Primero pasamos la cadena a minusculas\n",
    "    abecedario = ('a'..'z').to_a #Transformamos a un arreglo\n",
    "    cadena.each_char do |letra|\n",
    "    abecedario.delete(letra) if abecedario.include?(letra) #Borraremos las letras que estan en el abecedario que estan contenidas en la cadena\n",
    "    end\n",
    "    abecedario[0]# Con lo cual solo nos quedaria una unica letra dentro del abecedario\n",
    "end\n",
    "\n",
    "cadena = \"the quick brown box jumps over a lazy dog\"\n",
    "letraFaltante = letra_faltante(cadena)\n",
    "\"La letra que falta es: #{letraFaltante}\"\n"
   ]
  }
 ],
 "metadata": {
  "kernelspec": {
   "display_name": "Ruby 2.6.6",
   "language": "ruby",
   "name": "ruby"
  },
  "language_info": {
   "file_extension": ".rb",
   "mimetype": "application/x-ruby",
   "name": "ruby",
   "version": "2.6.6"
  }
 },
 "nbformat": 4,
 "nbformat_minor": 5
}
